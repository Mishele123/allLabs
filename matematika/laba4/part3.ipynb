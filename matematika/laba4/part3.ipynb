{
 "cells": [
  {
   "cell_type": "code",
   "execution_count": 2,
   "metadata": {},
   "outputs": [],
   "source": [
    "import sympy as sm"
   ]
  },
  {
   "cell_type": "code",
   "execution_count": 3,
   "metadata": {},
   "outputs": [
    {
     "name": "stdout",
     "output_type": "stream",
     "text": [
      "Многочлен Лагранжа: 0.441798060855945*x**5 - 1.1717955765198*x**4 + 1.70414871713001*x**3 - 0.188656713173259*x**2 + 1.38720914336955*x + 0.972427496948058\n",
      "f(0.702) = 2.23356757287870\n",
      "f(0.512) = 1.79696953042376\n",
      "f(0.645) = 2.09248544083878\n",
      "f(0.736) = 2.32221177441718\n",
      "f(0.608) = 2.00570701999530\n"
     ]
    }
   ],
   "source": [
    "x = [0.43, 0.48, 0.55, 0.62, 0.70, 0.75] \n",
    "y = [1.63597, 1.73234, 1.87686, 2.03345, 2.22846, 2.35973]\n",
    "x_sym = sm.Symbol('x')\n",
    "F = 0\n",
    "for i in range(len(x)):\n",
    "    term = y[i]\n",
    "    for j in range(len(x)):\n",
    "        if j != i:\n",
    "            term *= (x_sym - x[j]) / (x[i] - x[j])\n",
    "    F += term\n",
    "F = sm.expand(F)\n",
    "print(f\"Многочлен Лагранжа: {F}\")\n",
    "\n",
    "x_to_evaluate = [0.702, 0.512, 0.645, 0.736, 0.608]\n",
    "for x_val in x_to_evaluate:\n",
    "    print(f\"f({x_val}) = {F.subs(x_sym, x_val)}\")"
   ]
  },
  {
   "cell_type": "code",
   "execution_count": 16,
   "metadata": {},
   "outputs": [
    {
     "name": "stdout",
     "output_type": "stream",
     "text": [
      "Интерполяция вперед, x = 1.4161: y = 0.888782\n"
     ]
    },
    {
     "ename": "TypeError",
     "evalue": "'float' object is not subscriptable",
     "output_type": "error",
     "traceback": [
      "\u001b[1;31m---------------------------------------------------------------------------\u001b[0m",
      "\u001b[1;31mTypeError\u001b[0m                                 Traceback (most recent call last)",
      "Cell \u001b[1;32mIn[16], line 23\u001b[0m\n\u001b[0;32m     21\u001b[0m h \u001b[38;5;241m=\u001b[39m x[i] \u001b[38;5;241m-\u001b[39m x[i\u001b[38;5;241m-\u001b[39m\u001b[38;5;241m1\u001b[39m]\n\u001b[0;32m     22\u001b[0m x_0 \u001b[38;5;241m=\u001b[39m x[i\u001b[38;5;241m-\u001b[39m\u001b[38;5;241m1\u001b[39m]\n\u001b[1;32m---> 23\u001b[0m y_0 \u001b[38;5;241m=\u001b[39m \u001b[43my\u001b[49m\u001b[43m[\u001b[49m\u001b[43mi\u001b[49m\u001b[38;5;241;43m-\u001b[39;49m\u001b[38;5;241;43m1\u001b[39;49m\u001b[43m]\u001b[49m\n\u001b[0;32m     24\u001b[0m y \u001b[38;5;241m=\u001b[39m y_0 \u001b[38;5;241m+\u001b[39m (x_val \u001b[38;5;241m-\u001b[39m x_0) \u001b[38;5;241m/\u001b[39m h \u001b[38;5;241m*\u001b[39m (y[i] \u001b[38;5;241m-\u001b[39m y_0)\n\u001b[0;32m     25\u001b[0m \u001b[38;5;28mprint\u001b[39m(\u001b[38;5;124mf\u001b[39m\u001b[38;5;124m\"\u001b[39m\u001b[38;5;124mИнтерполяция назад, x = \u001b[39m\u001b[38;5;132;01m{\u001b[39;00mx_val\u001b[38;5;132;01m}\u001b[39;00m\u001b[38;5;124m: y = \u001b[39m\u001b[38;5;132;01m{\u001b[39;00my\u001b[38;5;132;01m:\u001b[39;00m\u001b[38;5;124m.6f\u001b[39m\u001b[38;5;132;01m}\u001b[39;00m\u001b[38;5;124m\"\u001b[39m)\n",
      "\u001b[1;31mTypeError\u001b[0m: 'float' object is not subscriptable"
     ]
    }
   ],
   "source": [
    "import numpy as np\n",
    "\n",
    "x = [1.415, 1.420, 1.425, 1.430, 1.435, 1.440, 1.445, 1.450, 1.455, 1.460, 1.465] \n",
    "y = [0.888551, 0.889599, 0.890637, 0.891667, 0.892687, 0.893698, 0.894700, 0.895693, 0.896677, 0.897653, 0.898619]\n",
    "\n",
    "x_to_interpolate = [1.4161, 1.4625, 1.4135, 1.4703]\n",
    "\n",
    "for x_val in x_to_interpolate:\n",
    "    if x_val <= 1.435:\n",
    "        i = next(i for i, v in enumerate(x) if v >= x_val)\n",
    "        h = x[i] - x[i-1]\n",
    "        x_0 = x[i-1]\n",
    "        y_0 = y[i-1]\n",
    "        y = y_0 + (x_val - x_0) / h * (y[i] - y_0)\n",
    "        print(f\"Интерполяция вперед, x = {x_val}: y = {y:.6f}\")\n",
    "    else:\n",
    "        i = next(i for i, v in enumerate(x) if v >= x_val)\n",
    "        if i == 0:\n",
    "            print(f\"Точка {x_val} вне диапазона данных\")\n",
    "            continue\n",
    "        h = x[i] - x[i-1]\n",
    "        x_0 = x[i-1]\n",
    "        y_0 = y[i-1]\n",
    "        y = y_0 + (x_val - x_0) / h * (y[i] - y_0)\n",
    "        print(f\"Интерполяция назад, x = {x_val}: y = {y:.6f}\")\n"
   ]
  }
 ],
 "metadata": {
  "kernelspec": {
   "display_name": "Python 3",
   "language": "python",
   "name": "python3"
  },
  "language_info": {
   "codemirror_mode": {
    "name": "ipython",
    "version": 3
   },
   "file_extension": ".py",
   "mimetype": "text/x-python",
   "name": "python",
   "nbconvert_exporter": "python",
   "pygments_lexer": "ipython3",
   "version": "3.11.6"
  }
 },
 "nbformat": 4,
 "nbformat_minor": 2
}
